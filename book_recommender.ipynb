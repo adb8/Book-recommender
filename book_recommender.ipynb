{
  "nbformat": 4,
  "nbformat_minor": 0,
  "metadata": {
    "colab": {
      "provenance": []
    },
    "kernelspec": {
      "name": "python3",
      "display_name": "Python 3"
    },
    "language_info": {
      "name": "python"
    }
  },
  "cells": [
    {
      "cell_type": "code",
      "execution_count": 1,
      "metadata": {
        "colab": {
          "base_uri": "https://localhost:8080/"
        },
        "id": "jRnfCBw9j3Cc",
        "outputId": "2efa71e6-f3d8-48a2-e026-f5cfaaebf814"
      },
      "outputs": [
        {
          "output_type": "stream",
          "name": "stdout",
          "text": [
            "Random book: Angela's Ashes (Frank McCourt, #1)\n",
            "10 books most similar to random book:\n",
            "Ninth Grade Slays (The Chronicles of Vladimir Tod, #2)\n",
            "Utilitarianism\n",
            "The Case for Christ\n",
            "Marked in Flesh (The Others, #4)\n",
            "Spook: Science Tackles the Afterlife\n",
            "Jamaica Inn\n",
            "The Bloody Chamber and Other Stories\n",
            "Dream Dark (Caster Chronicles, #2.5)\n",
            "The Crucible\n",
            "Dinner at the Homesick Restaurant\n"
          ]
        }
      ],
      "source": [
        "import pandas\n",
        "import random\n",
        "from sklearn.metrics.pairwise import cosine_similarity\n",
        "\n",
        "books = pandas.read_csv('https://raw.githubusercontent.com/zygmuntz/goodbooks-10k/master/books.csv')\n",
        "ratings = pandas.read_csv('https://raw.githubusercontent.com/zygmuntz/goodbooks-10k/master/ratings.csv')\n",
        "data = pandas.merge(books, ratings, on=\"book_id\")\n",
        "\n",
        "matrix = data.pivot_table(index=\"book_id\", columns=\"title\", values=\"rating\")\n",
        "matrix = matrix.fillna(2.5, axis=0)\n",
        "similarity = cosine_similarity(matrix.T)\n",
        "\n",
        "def get_recommendations(title, similarity=similarity, books=books):\n",
        "    matched_books = books[books[\"title\"] == title]\n",
        "    index = matched_books.index[0]\n",
        "    book_scores = list(enumerate(similarity[index]))\n",
        "    sorted_scores = sorted(book_scores, key=lambda x: x[1], reverse=True)\n",
        "    top_scores = sorted_scores[1:11]\n",
        "    book_indices = []\n",
        "    for score in top_scores:\n",
        "        book_indices.append(score[0])\n",
        "    recommended_books = books[\"title\"].iloc[book_indices].tolist()\n",
        "    return recommended_books\n",
        "\n",
        "def random_book_generator(books):\n",
        "    titles = books[\"title\"].tolist()\n",
        "    random_title = random.choice(titles)\n",
        "    return random_title\n",
        "\n",
        "def main():\n",
        "    random_title = random_book_generator(books)\n",
        "    recommendations = get_recommendations(random_title)\n",
        "    print(\"Random book: \" + random_title)\n",
        "    print(\"10 books most similar to random book:\")\n",
        "    for recommendation in recommendations:\n",
        "        print(recommendation)\n",
        "\n",
        "main()"
      ]
    }
  ]
}